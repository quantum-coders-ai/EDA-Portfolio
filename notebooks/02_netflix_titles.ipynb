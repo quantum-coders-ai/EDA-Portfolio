{
 "cells": [
  {
   "cell_type": "markdown",
   "id": "f77a07f8",
   "metadata": {},
   "source": [
    "# Netflix Movies & TV Shows — EDA\n",
    "\n",
    "*Goal:* Genres, years, ratings\n",
    "\n",
    "> Fill in dataset link and notes below."
   ]
  },
  {
   "cell_type": "markdown",
   "id": "b59f3b4a",
   "metadata": {},
   "source": [
    "## 0. Setup"
   ]
  },
  {
   "cell_type": "code",
   "execution_count": null,
   "id": "55870613",
   "metadata": {},
   "outputs": [],
   "source": [
    "%load_ext autoreload\n",
    "%autoreload 2\n",
    "\n",
    "import os, sys\n",
    "from pathlib import Path\n",
    "import pandas as pd\n",
    "import numpy as np\n",
    "import matplotlib.pyplot as plt\n",
    "import seaborn as sns\n",
    "import plotly.express as px\n",
    "\n",
    "# Paths\n",
    "PROJ = Path.cwd().parents[0] if (Path.cwd().name == \"notebooks\") else Path.cwd()\n",
    "DATA_RAW = PROJ / \"data\" / \"raw\"\n",
    "DATA_PROC = PROJ / \"data\" / \"processed\"\n",
    "FIG_DIR = PROJ / \"reports\" / \"figures\"\n",
    "\n",
    "# Local utils\n",
    "sys.path.append(str(PROJ / \"src\"))\n",
    "from utils import set_mpl_defaults, load_csv, save_fig\n",
    "\n",
    "set_mpl_defaults()\n",
    "pd.set_option(\"display.max_columns\", 100)\n"
   ]
  },
  {
   "cell_type": "markdown",
   "id": "64ebc128",
   "metadata": {},
   "source": [
    "## 1. Load Data\n",
    "\n",
    "> Put the raw file(s) in `data/raw/` and point to them here."
   ]
  },
  {
   "cell_type": "code",
   "execution_count": null,
   "id": "8cf0824f",
   "metadata": {},
   "outputs": [],
   "source": [
    "# Example:\n",
    "# df = load_csv(DATA_RAW / \"your_file.csv\")\n",
    "# df.head()\n"
   ]
  },
  {
   "cell_type": "markdown",
   "id": "b10ec77d",
   "metadata": {},
   "source": [
    "## 2. Basic Checks"
   ]
  },
  {
   "cell_type": "code",
   "execution_count": null,
   "id": "9c34fa86",
   "metadata": {},
   "outputs": [],
   "source": [
    "# Shape, dtypes, nulls, duplicates\n",
    "# df.shape, df.dtypes\n",
    "# df.isna().sum().sort_values(ascending=False).head(20)\n",
    "# df.duplicated().sum()\n"
   ]
  },
  {
   "cell_type": "markdown",
   "id": "6b27f41b",
   "metadata": {},
   "source": [
    "## 3. Cleaning"
   ]
  },
  {
   "cell_type": "code",
   "execution_count": null,
   "id": "ebb5874d",
   "metadata": {},
   "outputs": [],
   "source": [
    "# Handle nulls / outliers / type conversions\n",
    "# Example patterns:\n",
    "# df = df.drop_duplicates()\n",
    "# df['col'] = pd.to_numeric(df['col'], errors='coerce')\n",
    "# df = df.fillna({'col': df['col'].median()})\n"
   ]
  },
  {
   "cell_type": "markdown",
   "id": "9a9bd57d",
   "metadata": {},
   "source": [
    "## 4. EDA — Distributions & Relationships"
   ]
  },
  {
   "cell_type": "code",
   "execution_count": null,
   "id": "db1a6e0e",
   "metadata": {},
   "outputs": [],
   "source": [
    "# Hist, Box, KDE\n",
    "# ax = df['numeric_col'].plot(kind='hist'); plt.title('Distribution'); plt.show()\n",
    "# sns.boxplot(x=df['numeric_col']); plt.title('Boxplot'); plt.show()\n",
    "\n",
    "# Correlation heatmap (numeric only)\n",
    "# corr = df.select_dtypes(include='number').corr(numeric_only=True)\n",
    "# sns.heatmap(corr); plt.title('Correlation'); plt.show()\n"
   ]
  },
  {
   "cell_type": "markdown",
   "id": "93334da0",
   "metadata": {},
   "source": [
    "## 5. Time Series / Grouped Insights (if applicable)"
   ]
  },
  {
   "cell_type": "code",
   "execution_count": null,
   "id": "94f56857",
   "metadata": {},
   "outputs": [],
   "source": [
    "# Example: trends by month, borough, genre, etc.\n",
    "# grp = df.groupby('some_category')['target'].mean().sort_values(ascending=False)\n",
    "# grp.head()\n"
   ]
  },
  {
   "cell_type": "markdown",
   "id": "092664dd",
   "metadata": {},
   "source": [
    "## 6. Save Cleaned Data (optional)"
   ]
  },
  {
   "cell_type": "code",
   "execution_count": null,
   "id": "1f636481",
   "metadata": {},
   "outputs": [],
   "source": [
    "# DATA_PROC.mkdir(parents=True, exist_ok=True)\n",
    "# df.to_csv(DATA_PROC / \"dataset_clean.csv\", index=False)\n"
   ]
  },
  {
   "cell_type": "markdown",
   "id": "f7abd9a7",
   "metadata": {},
   "source": [
    "## 7. Export Key Plots"
   ]
  },
  {
   "cell_type": "code",
   "execution_count": null,
   "id": "77ff6a13",
   "metadata": {},
   "outputs": [],
   "source": [
    "# fig = plt.gcf()\n",
    "# save_fig(fig, FIG_DIR / \"plot_name.png\")\n"
   ]
  },
  {
   "cell_type": "markdown",
   "id": "7ab60a0b",
   "metadata": {},
   "source": [
    "## 8. Findings / Insights"
   ]
  },
  {
   "cell_type": "markdown",
   "id": "a8089bf1",
   "metadata": {},
   "source": [
    "- Bullet your top 5–7 insights here.\n",
    "- Add any caveats or data quality notes."
   ]
  }
 ],
 "metadata": {},
 "nbformat": 4,
 "nbformat_minor": 5
}
