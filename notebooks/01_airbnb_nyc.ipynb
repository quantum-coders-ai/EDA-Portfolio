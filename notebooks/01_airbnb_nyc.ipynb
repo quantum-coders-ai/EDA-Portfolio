{
 "cells": [
  {
   "cell_type": "markdown",
   "id": "95cb528e",
   "metadata": {},
   "source": [
    "# Airbnb NYC — EDA\n",
    "\n",
    "*Goal:* Rental prices, location trends\n",
    "\n",
    "> Fill in dataset link and notes below."
   ]
  },
  {
   "cell_type": "markdown",
   "id": "f497bd13",
   "metadata": {},
   "source": [
    "## 0. Setup"
   ]
  },
  {
   "cell_type": "code",
   "execution_count": null,
   "id": "ed943559",
   "metadata": {},
   "outputs": [],
   "source": [
    "%load_ext autoreload\n",
    "%autoreload 2\n",
    "\n",
    "import os, sys\n",
    "from pathlib import Path\n",
    "import pandas as pd\n",
    "import numpy as np\n",
    "import matplotlib.pyplot as plt\n",
    "import seaborn as sns\n",
    "import plotly.express as px\n",
    "\n",
    "# Paths\n",
    "PROJ = Path.cwd().parents[0] if (Path.cwd().name == \"notebooks\") else Path.cwd()\n",
    "DATA_RAW = PROJ / \"data\" / \"raw\"\n",
    "DATA_PROC = PROJ / \"data\" / \"processed\"\n",
    "FIG_DIR = PROJ / \"reports\" / \"figures\"\n",
    "\n",
    "# Local utils\n",
    "sys.path.append(str(PROJ / \"src\"))\n",
    "from utils import set_mpl_defaults, load_csv, save_fig\n",
    "\n",
    "set_mpl_defaults()\n",
    "pd.set_option(\"display.max_columns\", 100)\n"
   ]
  },
  {
   "cell_type": "markdown",
   "id": "312e3e0b",
   "metadata": {},
   "source": [
    "## 1. Load Data\n",
    "\n",
    "> Put the raw file(s) in `data/raw/` and point to them here."
   ]
  },
  {
   "cell_type": "code",
   "execution_count": null,
   "id": "ef8e6b2e",
   "metadata": {},
   "outputs": [],
   "source": [
    "# Example:\n",
    "# df = load_csv(DATA_RAW / \"your_file.csv\")\n",
    "# df.head()\n"
   ]
  },
  {
   "cell_type": "markdown",
   "id": "dcb995f5",
   "metadata": {},
   "source": [
    "## 2. Basic Checks"
   ]
  },
  {
   "cell_type": "code",
   "execution_count": null,
   "id": "3b9fe8cf",
   "metadata": {},
   "outputs": [],
   "source": [
    "# Shape, dtypes, nulls, duplicates\n",
    "# df.shape, df.dtypes\n",
    "# df.isna().sum().sort_values(ascending=False).head(20)\n",
    "# df.duplicated().sum()\n"
   ]
  },
  {
   "cell_type": "markdown",
   "id": "21cc2d44",
   "metadata": {},
   "source": [
    "## 3. Cleaning"
   ]
  },
  {
   "cell_type": "code",
   "execution_count": null,
   "id": "5fc739da",
   "metadata": {},
   "outputs": [],
   "source": [
    "# Handle nulls / outliers / type conversions\n",
    "# Example patterns:\n",
    "# df = df.drop_duplicates()\n",
    "# df['col'] = pd.to_numeric(df['col'], errors='coerce')\n",
    "# df = df.fillna({'col': df['col'].median()})\n"
   ]
  },
  {
   "cell_type": "markdown",
   "id": "1501a9e4",
   "metadata": {},
   "source": [
    "## 4. EDA — Distributions & Relationships"
   ]
  },
  {
   "cell_type": "code",
   "execution_count": null,
   "id": "b862aaff",
   "metadata": {},
   "outputs": [],
   "source": [
    "# Hist, Box, KDE\n",
    "# ax = df['numeric_col'].plot(kind='hist'); plt.title('Distribution'); plt.show()\n",
    "# sns.boxplot(x=df['numeric_col']); plt.title('Boxplot'); plt.show()\n",
    "\n",
    "# Correlation heatmap (numeric only)\n",
    "# corr = df.select_dtypes(include='number').corr(numeric_only=True)\n",
    "# sns.heatmap(corr); plt.title('Correlation'); plt.show()\n"
   ]
  },
  {
   "cell_type": "markdown",
   "id": "34caba8e",
   "metadata": {},
   "source": [
    "## 5. Time Series / Grouped Insights (if applicable)"
   ]
  },
  {
   "cell_type": "code",
   "execution_count": null,
   "id": "442352d1",
   "metadata": {},
   "outputs": [],
   "source": [
    "# Example: trends by month, borough, genre, etc.\n",
    "# grp = df.groupby('some_category')['target'].mean().sort_values(ascending=False)\n",
    "# grp.head()\n"
   ]
  },
  {
   "cell_type": "markdown",
   "id": "082a0b81",
   "metadata": {},
   "source": [
    "## 6. Save Cleaned Data (optional)"
   ]
  },
  {
   "cell_type": "code",
   "execution_count": null,
   "id": "f30e8d3c",
   "metadata": {},
   "outputs": [],
   "source": [
    "# DATA_PROC.mkdir(parents=True, exist_ok=True)\n",
    "# df.to_csv(DATA_PROC / \"dataset_clean.csv\", index=False)\n"
   ]
  },
  {
   "cell_type": "markdown",
   "id": "b03ef010",
   "metadata": {},
   "source": [
    "## 7. Export Key Plots"
   ]
  },
  {
   "cell_type": "code",
   "execution_count": null,
   "id": "bb4d5b7f",
   "metadata": {},
   "outputs": [],
   "source": [
    "# fig = plt.gcf()\n",
    "# save_fig(fig, FIG_DIR / \"plot_name.png\")\n"
   ]
  },
  {
   "cell_type": "markdown",
   "id": "fabe6627",
   "metadata": {},
   "source": [
    "## 8. Findings / Insights"
   ]
  },
  {
   "cell_type": "markdown",
   "id": "b8ddac49",
   "metadata": {},
   "source": [
    "- Bullet your top 5–7 insights here.\n",
    "- Add any caveats or data quality notes."
   ]
  }
 ],
 "metadata": {},
 "nbformat": 4,
 "nbformat_minor": 5
}
