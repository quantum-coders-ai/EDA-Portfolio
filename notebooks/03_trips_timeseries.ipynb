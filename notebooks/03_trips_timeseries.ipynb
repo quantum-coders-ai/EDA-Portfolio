{
 "cells": [
  {
   "cell_type": "markdown",
   "id": "0de0a349",
   "metadata": {},
   "source": [
    "# Trips Demand — EDA\n",
    "\n",
    "*Goal:* Demand vs time of day (use NYC TLC trips as proxy)\n",
    "\n",
    "> Fill in dataset link and notes below."
   ]
  },
  {
   "cell_type": "markdown",
   "id": "bd3e2aaf",
   "metadata": {},
   "source": [
    "## 0. Setup"
   ]
  },
  {
   "cell_type": "code",
   "execution_count": null,
   "id": "cd46a6ad",
   "metadata": {},
   "outputs": [],
   "source": [
    "%load_ext autoreload\n",
    "%autoreload 2\n",
    "\n",
    "import os, sys\n",
    "from pathlib import Path\n",
    "import pandas as pd\n",
    "import numpy as np\n",
    "import matplotlib.pyplot as plt\n",
    "import seaborn as sns\n",
    "import plotly.express as px\n",
    "\n",
    "# Paths\n",
    "PROJ = Path.cwd().parents[0] if (Path.cwd().name == \"notebooks\") else Path.cwd()\n",
    "DATA_RAW = PROJ / \"data\" / \"raw\"\n",
    "DATA_PROC = PROJ / \"data\" / \"processed\"\n",
    "FIG_DIR = PROJ / \"reports\" / \"figures\"\n",
    "\n",
    "# Local utils\n",
    "sys.path.append(str(PROJ / \"src\"))\n",
    "from utils import set_mpl_defaults, load_csv, save_fig\n",
    "\n",
    "set_mpl_defaults()\n",
    "pd.set_option(\"display.max_columns\", 100)\n"
   ]
  },
  {
   "cell_type": "markdown",
   "id": "6a260eca",
   "metadata": {},
   "source": [
    "## 1. Load Data\n",
    "\n",
    "> Put the raw file(s) in `data/raw/` and point to them here."
   ]
  },
  {
   "cell_type": "code",
   "execution_count": null,
   "id": "58b04ed6",
   "metadata": {},
   "outputs": [],
   "source": [
    "# Example:\n",
    "# df = load_csv(DATA_RAW / \"your_file.csv\")\n",
    "# df.head()\n"
   ]
  },
  {
   "cell_type": "markdown",
   "id": "4cc6fc4f",
   "metadata": {},
   "source": [
    "## 2. Basic Checks"
   ]
  },
  {
   "cell_type": "code",
   "execution_count": null,
   "id": "12e5e56a",
   "metadata": {},
   "outputs": [],
   "source": [
    "# Shape, dtypes, nulls, duplicates\n",
    "# df.shape, df.dtypes\n",
    "# df.isna().sum().sort_values(ascending=False).head(20)\n",
    "# df.duplicated().sum()\n"
   ]
  },
  {
   "cell_type": "markdown",
   "id": "1729a404",
   "metadata": {},
   "source": [
    "## 3. Cleaning"
   ]
  },
  {
   "cell_type": "code",
   "execution_count": null,
   "id": "795c250f",
   "metadata": {},
   "outputs": [],
   "source": [
    "# Handle nulls / outliers / type conversions\n",
    "# Example patterns:\n",
    "# df = df.drop_duplicates()\n",
    "# df['col'] = pd.to_numeric(df['col'], errors='coerce')\n",
    "# df = df.fillna({'col': df['col'].median()})\n"
   ]
  },
  {
   "cell_type": "markdown",
   "id": "f1bfd4e6",
   "metadata": {},
   "source": [
    "## 4. EDA — Distributions & Relationships"
   ]
  },
  {
   "cell_type": "code",
   "execution_count": null,
   "id": "2be36363",
   "metadata": {},
   "outputs": [],
   "source": [
    "# Hist, Box, KDE\n",
    "# ax = df['numeric_col'].plot(kind='hist'); plt.title('Distribution'); plt.show()\n",
    "# sns.boxplot(x=df['numeric_col']); plt.title('Boxplot'); plt.show()\n",
    "\n",
    "# Correlation heatmap (numeric only)\n",
    "# corr = df.select_dtypes(include='number').corr(numeric_only=True)\n",
    "# sns.heatmap(corr); plt.title('Correlation'); plt.show()\n"
   ]
  },
  {
   "cell_type": "markdown",
   "id": "d1fc5c1e",
   "metadata": {},
   "source": [
    "## 5. Time Series / Grouped Insights (if applicable)"
   ]
  },
  {
   "cell_type": "code",
   "execution_count": null,
   "id": "fde8ec30",
   "metadata": {},
   "outputs": [],
   "source": [
    "# Example: trends by month, borough, genre, etc.\n",
    "# grp = df.groupby('some_category')['target'].mean().sort_values(ascending=False)\n",
    "# grp.head()\n"
   ]
  },
  {
   "cell_type": "markdown",
   "id": "700b4334",
   "metadata": {},
   "source": [
    "## 6. Save Cleaned Data (optional)"
   ]
  },
  {
   "cell_type": "code",
   "execution_count": null,
   "id": "2ecd960c",
   "metadata": {},
   "outputs": [],
   "source": [
    "# DATA_PROC.mkdir(parents=True, exist_ok=True)\n",
    "# df.to_csv(DATA_PROC / \"dataset_clean.csv\", index=False)\n"
   ]
  },
  {
   "cell_type": "markdown",
   "id": "a2f7310c",
   "metadata": {},
   "source": [
    "## 7. Export Key Plots"
   ]
  },
  {
   "cell_type": "code",
   "execution_count": null,
   "id": "cd79fe3f",
   "metadata": {},
   "outputs": [],
   "source": [
    "# fig = plt.gcf()\n",
    "# save_fig(fig, FIG_DIR / \"plot_name.png\")\n"
   ]
  },
  {
   "cell_type": "markdown",
   "id": "11f7cb4c",
   "metadata": {},
   "source": [
    "## 8. Findings / Insights"
   ]
  },
  {
   "cell_type": "markdown",
   "id": "b7721947",
   "metadata": {},
   "source": [
    "- Bullet your top 5–7 insights here.\n",
    "- Add any caveats or data quality notes."
   ]
  }
 ],
 "metadata": {},
 "nbformat": 4,
 "nbformat_minor": 5
}
